{
 "cells": [
  {
   "cell_type": "markdown",
   "id": "fb964a34",
   "metadata": {},
   "source": [
    "# First Homework: Linear and Discrete Models "
   ]
  },
  {
   "cell_type": "markdown",
   "id": "62cfb941",
   "metadata": {},
   "source": [
    "## Marta Almagro Fuello    \n",
    "#### NIA : 100451979\n"
   ]
  },
  {
   "cell_type": "markdown",
   "id": "88e7fc2c",
   "metadata": {},
   "source": [
    "## Problem statement \n",
    "### a) Formulate the problem as a linear optimization model (general formulation). Identify the model sets, parameters, variables, objective function and constraints."
   ]
  },
  {
   "cell_type": "markdown",
   "id": "9781fb6b",
   "metadata": {},
   "source": [
    "Is very common that during the last year of every degree most of the students that are keeping up with them grades start searching for interships in companies to put in practice what they have learned in their subjects of college.\n",
    "\n",
    "At the same time, big companies are also searching for this type of students so they can help in proyects even though they do not have experience, they can contribute in them. Another reason for the companies to constract this non-graduate students is because they are much cheaper to pay than a person who actually has a degree.\n",
    "\n",
    "I have selected the \"Big 4\" companies plus Accenture, which is a big firm too.\n",
    "\n",
    "<img src = \"img/BIG4.jpg\" alt = \"Companies\" />"
   ]
  },
  {
   "cell_type": "markdown",
   "id": "8ca2a5d7",
   "metadata": {},
   "source": [
    "Each university has made different salary agreements with each company for the interships that are reflected in the below table\n",
    "\n",
    "<img src=\"img/tablepart1.jpg\" alt = \"TablePart1\" />\n",
    "\n"
   ]
  },
  {
   "cell_type": "markdown",
   "id": "915239d5",
   "metadata": {},
   "source": [
    "In the table below it is represented the number of jobs offered from each firm and the minimum number of positions that need to be covered. In addition there is reflected also the maximum number of students that each univeristy can allow and the minimum number or agreements they have to sign so these univeristies get in the top 10 of \"Best Universities\" from Madrid.\n",
    "\n",
    "The government wants to sign limited agreements between the universities and companies with the least possible total cost. One of the conditons of the contract is that it is compulsory for each company to hire between 2 and 25 students from each University.\n",
    "\n",
    "They want to be fair with private and public universities, so it does not seems that companies only hire students from the public universities. In order to acomplish that, they stated that\n",
    "at least half the students that get interships should be studying in a private univeristy.\n",
    "The private universities are CEU, ICADE and ESIC, the rest are public.\n",
    "\n"
   ]
  },
  {
   "cell_type": "markdown",
   "id": "ef97e25a",
   "metadata": {},
   "source": [
    "The Intership Problem can be formulated mathematically as a linear programming problem using the following model.\n",
    "\n",
    "\n",
    "### Sets\n",
    "\n",
    " $C$ = set of Companies\n",
    " \n",
    " $U$ = set of Universities\n",
    " \n",
    " \n",
    "### Parameters\n",
    "\n",
    "$StudentsAvailable$ = students offered by each univeristy $i$,$\\forall j\\in C$\n",
    "\n",
    "$JobsNeededCovered$ = students demanded by each company $j$, $\\forall i\\in U$\n",
    "\n",
    "$MinAgreementsbyUni$ = minimum number of scholars that each university $i$ must offer,$\\forall j\\in C$\n",
    "\n",
    "$JobsOfferedbyCompany$ = maximum number of scholars that each company $j$, is able to contract, $\\forall i\\in U$\n",
    "\n",
    "$Salaries$ = $salary_{ij}$ paid per each scholar\n",
    "\n",
    "### Variables\n",
    "\n",
    " $x_{ij}$ = number of students hired from each university $i$ to each company $j$\n",
    "\n",
    "### Objective\n",
    "\n",
    "Minimize the total cost of scholars salaries  \n",
    "\n",
    " $\\min \\sum_{i\\in U}\\sum_{j \\in C} salaries_{ij} * x_{ij}$\n",
    "\n",
    "### Constraints\n",
    "\n",
    "Limited number of students that are able to work in each university \n",
    "\n",
    "$\\sum_{i \\in U} x_{ij} \\leq StudentsAvailable_i $, $\\forall j \\in C$\n",
    "\n",
    "Minimum number of scholars required in each company\n",
    "\n",
    "$\\sum_{j \\in C} x_{ij} \\geq JobsNeededCovered_j $, $\\forall i \\in U$\n",
    "\n",
    "\n",
    " \n",
    "Minimum number of students each university sent to each company\n",
    "\n",
    "$\\sum_{i \\in U} x_{ij} \\geq MinAgreementsbyUni_i $, $\\forall j \\in C$\n",
    " \n",
    "Maximum number of scholars each company can accept\n",
    "\n",
    "$\\sum_{j \\in C} x_{ij} \\leq JobsOfferedbyCompany_j $, $\\forall i \\in U$\n",
    "\n",
    "At least half the students that get interships should be studying in a private univeristy\n",
    "\n",
    "$\\sum_{j \\in C} x_{ij} \\geq 0.5 * (CEU_i +  ICADE_i + ESIC_i) $, $\\forall i \\in U$\n",
    "\n"
   ]
  },
  {
   "cell_type": "markdown",
   "id": "cd4654e9",
   "metadata": {},
   "source": [
    "### b) Implement the model in a notebook (preferably using Pyomo, but not mandatory) and solve it for an input based on real (or realistic) world data. Interpret the solution."
   ]
  },
  {
   "cell_type": "markdown",
   "id": "162f111c",
   "metadata": {},
   "source": [
    "First we must import the libraries we are going to use that are:"
   ]
  },
  {
   "cell_type": "code",
   "execution_count": 1,
   "id": "77785425",
   "metadata": {},
   "outputs": [],
   "source": [
    "from pyomo.environ import *\n",
    "from pyomo.opt import SolverFactory"
   ]
  },
  {
   "cell_type": "markdown",
   "id": "c7c976dc",
   "metadata": {},
   "source": [
    "Now we can create the model and start declaring the data:"
   ]
  },
  {
   "cell_type": "code",
   "execution_count": 2,
   "id": "8a035075",
   "metadata": {},
   "outputs": [],
   "source": [
    "# Creating the model\n",
    "\n",
    "model = ConcreteModel('Intership Problem')\n",
    "model.dual = Suffix(direction = Suffix.IMPORT)\n",
    "\n",
    "# Defining the sets\n",
    "\n",
    "model.i = Set(initialize = ['UC3M','UCM','URJC','CEU','ICADE','ESIC'], doc = 'Universities' ) \n",
    "model.j = Set(initialize = ['ACCENTURE','KPMG','EY','PWC','DELOITTE'], doc = 'Companies') \n",
    "\n",
    "## Defining values for the sets\n",
    "\n",
    "# Define the students available by each university and the jobs offered by each company\n",
    "StudentsAvailable = {'UC3M': 79, 'UCM': 65, 'URJC': 63, 'CEU':61, 'ICADE':42, 'ESIC':58}\n",
    "JobsOfferedbyCompany = {'ACCENTURE': 83, 'KPMG': 79, 'EY': 77, 'PWC':91,'DELOITTE':85}\n",
    "\n",
    "model.StudentsAvailable = Param(model.i, initialize = StudentsAvailable) \n",
    "model.JobsOffered = Param(model.j, initialize = JobsOfferedbyCompany)\n",
    "\n",
    "# Define the minimum of agreements signed by each university \n",
    "# and the jobs that have to be covered by each company\n",
    "MinAgreementsbyUni = {'UC3M': 15, 'UCM': 20, 'URJC': 12, 'CEU':58, 'ICADE':15, 'ESIC':14}\n",
    "JobsNeededCovered = {'ACCENTURE': 30, 'KPMG': 33, 'EY': 28, 'PWC':46,'DELOITTE':24}\n",
    "\n",
    "model.MinAgreementsbyUni = Param(model.i, initialize = MinAgreementsbyUni)\n",
    "model.JobsNeededCovered = Param(model.j, initialize = JobsNeededCovered) \n",
    "\n",
    "# Define the salaries\n",
    "\n",
    "Salaries = {\n",
    "    ('UC3M', 'ACCENTURE' ): 1950,\n",
    "    ('UC3M', 'KPMG'): 2100,\n",
    "    ('UC3M', 'EY' ): 1200,\n",
    "    ('UC3M', 'PWC' ): 1500,\n",
    "    ('UC3M', 'DELOITTE' ): 1200,\n",
    "    ('UCM', 'ACCENTURE'): 2010,\n",
    "    ('UCM', 'KPMG'): 1850,\n",
    "    ('UCM', 'EY'): 1800,\n",
    "    ('UCM', 'PWC'): 1750,\n",
    "    ('UCM', 'DELOITTE' ): 1825,    \n",
    "    ('URJC', 'ACCENTURE'): 1200,\n",
    "    ('URJC', 'KPMG'): 1200,\n",
    "    ('URJC', 'EY'): 1500,\n",
    "    ('URJC', 'PWC'): 1200,\n",
    "    ('URJC', 'DELOITTE' ): 2000,\n",
    "    ('CEU', 'ACCENTURE'): 1200,\n",
    "    ('CEU', 'KPMG'): 1800,\n",
    "    ('CEU', 'EY'): 1700,\n",
    "    ('CEU', 'PWC'): 1000,\n",
    "    ('CEU', 'DELOITTE' ): 1500,\n",
    "    ('ICADE', 'ACCENTURE'): 1500,\n",
    "    ('ICADE', 'KPMG'): 2000,\n",
    "    ('ICADE', 'EY'): 1560,\n",
    "    ('ICADE', 'PWC'): 1810,\n",
    "    ('ICADE', 'DELOITTE' ): 1800,    \n",
    "    ('ESIC', 'ACCENTURE' ): 1800,\n",
    "    ('ESIC', 'KPMG' ): 1500,\n",
    "    ('ESIC', 'EY' ): 1350,\n",
    "    ('ESIC', 'PWC' ): 1350,\n",
    "    ('ESIC', 'DELOITTE' ): 1200,\n",
    "    } \n",
    "\n",
    "model.Salaries = Param(model.i, model.j, initialize = Salaries)\n",
    "#model.pprint()"
   ]
  },
  {
   "cell_type": "markdown",
   "id": "8c15278b",
   "metadata": {},
   "source": [
    "Secondly, the decision variable is created taking into account the goverment's condition:"
   ]
  },
  {
   "cell_type": "code",
   "execution_count": 3,
   "id": "242ae02d",
   "metadata": {},
   "outputs": [],
   "source": [
    "model.x = Var(model.i, model.j, within = NonNegativeReals, bounds = (2,25))"
   ]
  },
  {
   "cell_type": "markdown",
   "id": "97dd027a",
   "metadata": {},
   "source": [
    "Once we have all then parameters and variables created we can start declaring the objective and constraint functions:"
   ]
  },
  {
   "cell_type": "code",
   "execution_count": 4,
   "id": "e41bc575",
   "metadata": {},
   "outputs": [
    {
     "name": "stdout",
     "output_type": "stream",
     "text": [
      "objective : Size=1, Index=None, Active=True\n",
      "    Key  : Active : Sense    : Expression\n",
      "    None :   True : minimize : 1950*x[UC3M,ACCENTURE] + 2100*x[UC3M,KPMG] + 1200*x[UC3M,EY] + 1500*x[UC3M,PWC] + 1200*x[UC3M,DELOITTE] + 2010*x[UCM,ACCENTURE] + 1850*x[UCM,KPMG] + 1800*x[UCM,EY] + 1750*x[UCM,PWC] + 1825*x[UCM,DELOITTE] + 1200*x[URJC,ACCENTURE] + 1200*x[URJC,KPMG] + 1500*x[URJC,EY] + 1200*x[URJC,PWC] + 2000*x[URJC,DELOITTE] + 1200*x[CEU,ACCENTURE] + 1800*x[CEU,KPMG] + 1700*x[CEU,EY] + 1000*x[CEU,PWC] + 1500*x[CEU,DELOITTE] + 1500*x[ICADE,ACCENTURE] + 2000*x[ICADE,KPMG] + 1560*x[ICADE,EY] + 1810*x[ICADE,PWC] + 1800*x[ICADE,DELOITTE] + 1800*x[ESIC,ACCENTURE] + 1500*x[ESIC,KPMG] + 1350*x[ESIC,EY] + 1350*x[ESIC,PWC] + 1200*x[ESIC,DELOITTE]\n"
     ]
    }
   ],
   "source": [
    "def objective_rule(model):\n",
    "    return sum(model.Salaries[i,j] * model.x[i,j] for i in model.i for j in model.j)\n",
    "\n",
    "model.objective = Objective(rule = objective_rule, sense = minimize)\n",
    "model.objective.pprint()"
   ]
  },
  {
   "cell_type": "code",
   "execution_count": 5,
   "id": "bfb94759",
   "metadata": {},
   "outputs": [],
   "source": [
    "# Define the constraint that says the maximum students available by each university  \n",
    "def StudentsAvailable_rule(model, i):\n",
    "    return sum(model.x[i,j] for j in model.j) <= model.StudentsAvailable[i]\n",
    "\n",
    "model.StudentsAvailableCons = Constraint(model.i, rule = StudentsAvailable_rule)\n",
    "   \n",
    "# Define the constraint that says the maximum jobs offered by each company   \n",
    "def JobsOffered_rule(model, j):\n",
    "    return sum(model.x[i,j] for i in model.i) <= model.JobsOffered[j]\n",
    "\n",
    "model.JobsOfferedCons = Constraint(model.j, rule = JobsOffered_rule)\n",
    "\n",
    "# Define the constraint that says the minimum of agreements signed by each university \n",
    "def MinAgreementsbyUni_rule(model, i):\n",
    "    return sum(model.x[i,j] for j in model.j) >= model.MinAgreementsbyUni[i]\n",
    "\n",
    "model.MinAgreementsbyUniCons = Constraint(model.i, rule = MinAgreementsbyUni_rule)\n",
    "\n",
    "# Define the constraint that says the minimum jobs that have to be covered by each company\n",
    "def JobsNeededCovered_rule(model, j):\n",
    "    return sum(model.x[i,j] for i in model.i) >= model.JobsNeededCovered[j]\n",
    "\n",
    "model.JobsNeededCoveredCons = Constraint(model.j, rule = JobsNeededCovered_rule)\n",
    "\n",
    "#Declaring the constraint stated by the goverment to be fair with public and private universities\n",
    "def PrivateUniveristy_rule(model, j):\n",
    "    return model.x['UC3M', j] + model.x['UCM', j] + model.x['URJC', j] + model.x['ESIC', j] + model.x['CEU', j] + model.x['ICADE', j] >= 0.5 * (model.x['ICADE', j] + model.x['ESIC', j] + model.x['CEU', j])\n",
    "\n",
    "model.PrivateUniveristyCons = Constraint(model.j, rule = PrivateUniveristy_rule)"
   ]
  },
  {
   "cell_type": "markdown",
   "id": "5bc76312",
   "metadata": {},
   "source": [
    "Finally the optimization problem is resolve with function .solve from the package 'glpk'"
   ]
  },
  {
   "cell_type": "code",
   "execution_count": 6,
   "id": "231f6561",
   "metadata": {},
   "outputs": [
    {
     "name": "stdout",
     "output_type": "stream",
     "text": [
      "x : Size=30, Index=x_index\n",
      "    Key                    : Lower : Value : Upper : Fixed : Stale : Domain\n",
      "      ('CEU', 'ACCENTURE') :     2 :  20.0 :    25 : False : False : NonNegativeReals\n",
      "       ('CEU', 'DELOITTE') :     2 :   9.0 :    25 : False : False : NonNegativeReals\n",
      "             ('CEU', 'EY') :     2 :   2.0 :    25 : False : False : NonNegativeReals\n",
      "           ('CEU', 'KPMG') :     2 :   2.0 :    25 : False : False : NonNegativeReals\n",
      "            ('CEU', 'PWC') :     2 :  25.0 :    25 : False : False : NonNegativeReals\n",
      "     ('ESIC', 'ACCENTURE') :     2 :   2.0 :    25 : False : False : NonNegativeReals\n",
      "      ('ESIC', 'DELOITTE') :     2 :   6.0 :    25 : False : False : NonNegativeReals\n",
      "            ('ESIC', 'EY') :     2 :   2.0 :    25 : False : False : NonNegativeReals\n",
      "          ('ESIC', 'KPMG') :     2 :   2.0 :    25 : False : False : NonNegativeReals\n",
      "           ('ESIC', 'PWC') :     2 :   2.0 :    25 : False : False : NonNegativeReals\n",
      "    ('ICADE', 'ACCENTURE') :     2 :   2.0 :    25 : False : False : NonNegativeReals\n",
      "     ('ICADE', 'DELOITTE') :     2 :   2.0 :    25 : False : False : NonNegativeReals\n",
      "           ('ICADE', 'EY') :     2 :   7.0 :    25 : False : False : NonNegativeReals\n",
      "         ('ICADE', 'KPMG') :     2 :   2.0 :    25 : False : False : NonNegativeReals\n",
      "          ('ICADE', 'PWC') :     2 :   2.0 :    25 : False : False : NonNegativeReals\n",
      "     ('UC3M', 'ACCENTURE') :     2 :   2.0 :    25 : False : False : NonNegativeReals\n",
      "      ('UC3M', 'DELOITTE') :     2 :   3.0 :    25 : False : False : NonNegativeReals\n",
      "            ('UC3M', 'EY') :     2 :  13.0 :    25 : False : False : NonNegativeReals\n",
      "          ('UC3M', 'KPMG') :     2 :   2.0 :    25 : False : False : NonNegativeReals\n",
      "           ('UC3M', 'PWC') :     2 :   2.0 :    25 : False : False : NonNegativeReals\n",
      "      ('UCM', 'ACCENTURE') :     2 :   2.0 :    25 : False : False : NonNegativeReals\n",
      "       ('UCM', 'DELOITTE') :     2 :   2.0 :    25 : False : False : NonNegativeReals\n",
      "             ('UCM', 'EY') :     2 :   2.0 :    25 : False : False : NonNegativeReals\n",
      "           ('UCM', 'KPMG') :     2 :   2.0 :    25 : False : False : NonNegativeReals\n",
      "            ('UCM', 'PWC') :     2 :  12.0 :    25 : False : False : NonNegativeReals\n",
      "     ('URJC', 'ACCENTURE') :     2 :   2.0 :    25 : False : False : NonNegativeReals\n",
      "      ('URJC', 'DELOITTE') :     2 :   2.0 :    25 : False : False : NonNegativeReals\n",
      "            ('URJC', 'EY') :     2 :   2.0 :    25 : False : False : NonNegativeReals\n",
      "          ('URJC', 'KPMG') :     2 :  23.0 :    25 : False : False : NonNegativeReals\n",
      "           ('URJC', 'PWC') :     2 :   3.0 :    25 : False : False : NonNegativeReals\n"
     ]
    }
   ],
   "source": [
    "# Define a solver \n",
    "Solver = SolverFactory('glpk')\n",
    "\n",
    "# Obtain the solution\n",
    "Results = Solver.solve(model)\n",
    "\n",
    "# Display the solution\n",
    "model.x.display()"
   ]
  },
  {
   "cell_type": "markdown",
   "id": "589c9b23",
   "metadata": {},
   "source": [
    "## Conclusions and results"
   ]
  },
  {
   "cell_type": "code",
   "execution_count": 7,
   "id": "57d8031b",
   "metadata": {},
   "outputs": [
    {
     "name": "stdout",
     "output_type": "stream",
     "text": [
      "Minimum budget for a year: 2648520 euros\n"
     ]
    }
   ],
   "source": [
    "print('Minimum budget for a year:',12*int(model.objective()), 'euros')\n",
    "# Minimum budget for a year: 2.648.520 euros"
   ]
  },
  {
   "cell_type": "code",
   "execution_count": 8,
   "id": "da6f496c",
   "metadata": {},
   "outputs": [
    {
     "name": "stdout",
     "output_type": "stream",
     "text": [
      "There are 2 students working at ACCENTURE from the univeristy UC3M.\n",
      "There are 2 students working at KPMG from the univeristy UC3M.\n",
      "There are 13 students working at EY from the univeristy UC3M.\n",
      "There are 2 students working at PWC from the univeristy UC3M.\n",
      "There are 3 students working at DELOITTE from the univeristy UC3M.\n",
      "There are 2 students working at ACCENTURE from the univeristy UCM.\n",
      "There are 2 students working at KPMG from the univeristy UCM.\n",
      "There are 2 students working at EY from the univeristy UCM.\n",
      "There are 12 students working at PWC from the univeristy UCM.\n",
      "There are 2 students working at DELOITTE from the univeristy UCM.\n",
      "There are 2 students working at ACCENTURE from the univeristy URJC.\n",
      "There are 23 students working at KPMG from the univeristy URJC.\n",
      "There are 2 students working at EY from the univeristy URJC.\n",
      "There are 3 students working at PWC from the univeristy URJC.\n",
      "There are 2 students working at DELOITTE from the univeristy URJC.\n",
      "There are 20 students working at ACCENTURE from the univeristy CEU.\n",
      "There are 2 students working at KPMG from the univeristy CEU.\n",
      "There are 2 students working at EY from the univeristy CEU.\n",
      "There are 25 students working at PWC from the univeristy CEU.\n",
      "There are 9 students working at DELOITTE from the univeristy CEU.\n",
      "There are 2 students working at ACCENTURE from the univeristy ICADE.\n",
      "There are 2 students working at KPMG from the univeristy ICADE.\n",
      "There are 7 students working at EY from the univeristy ICADE.\n",
      "There are 2 students working at PWC from the univeristy ICADE.\n",
      "There are 2 students working at DELOITTE from the univeristy ICADE.\n",
      "There are 2 students working at ACCENTURE from the univeristy ESIC.\n",
      "There are 2 students working at KPMG from the univeristy ESIC.\n",
      "There are 2 students working at EY from the univeristy ESIC.\n",
      "There are 2 students working at PWC from the univeristy ESIC.\n",
      "There are 6 students working at DELOITTE from the univeristy ESIC.\n"
     ]
    }
   ],
   "source": [
    "# Fancy model.x.display() \n",
    "for i in model.i:\n",
    "    for j in model.j:\n",
    "            print('There are',int(model.x[i,j].value),'students working at',j,'from the univeristy',i+\".\")"
   ]
  },
  {
   "cell_type": "markdown",
   "id": "dbec7d8a",
   "metadata": {},
   "source": [
    "Minimum budget for a year is 2.648.520 euros with the number of students shown above"
   ]
  },
  {
   "cell_type": "markdown",
   "id": "42d6756d",
   "metadata": {},
   "source": [
    "## Sensivity"
   ]
  },
  {
   "cell_type": "markdown",
   "id": "e1dda6ad",
   "metadata": {},
   "source": [
    "### c) Compute the sensitivities associated with each constraint, and interpret their values."
   ]
  },
  {
   "cell_type": "code",
   "execution_count": 9,
   "id": "1e0c10da",
   "metadata": {},
   "outputs": [
    {
     "name": "stdout",
     "output_type": "stream",
     "text": [
      "dual : Direction=Suffix.IMPORT, Datatype=Suffix.FLOAT\n",
      "    Key                              : Value\n",
      "    JobsNeededCoveredCons[ACCENTURE] :  900.0\n",
      "     JobsNeededCoveredCons[DELOITTE] : 1200.0\n",
      "           JobsNeededCoveredCons[EY] : 1200.0\n",
      "         JobsNeededCoveredCons[KPMG] : 1200.0\n",
      "          JobsNeededCoveredCons[PWC] : 1200.0\n",
      "          JobsOfferedCons[ACCENTURE] :    0.0\n",
      "           JobsOfferedCons[DELOITTE] :    0.0\n",
      "                 JobsOfferedCons[EY] :    0.0\n",
      "               JobsOfferedCons[KPMG] :    0.0\n",
      "                JobsOfferedCons[PWC] :    0.0\n",
      "         MinAgreementsbyUniCons[CEU] :  300.0\n",
      "        MinAgreementsbyUniCons[ESIC] :    0.0\n",
      "       MinAgreementsbyUniCons[ICADE] :  360.0\n",
      "        MinAgreementsbyUniCons[UC3M] :    0.0\n",
      "         MinAgreementsbyUniCons[UCM] :  550.0\n",
      "        MinAgreementsbyUniCons[URJC] :    0.0\n",
      "    PrivateUniveristyCons[ACCENTURE] :    0.0\n",
      "     PrivateUniveristyCons[DELOITTE] :    0.0\n",
      "           PrivateUniveristyCons[EY] :    0.0\n",
      "         PrivateUniveristyCons[KPMG] :    0.0\n",
      "          PrivateUniveristyCons[PWC] :    0.0\n",
      "          StudentsAvailableCons[CEU] :    0.0\n",
      "         StudentsAvailableCons[ESIC] :    0.0\n",
      "        StudentsAvailableCons[ICADE] :    0.0\n",
      "         StudentsAvailableCons[UC3M] :    0.0\n",
      "          StudentsAvailableCons[UCM] :    0.0\n",
      "         StudentsAvailableCons[URJC] :    0.0\n"
     ]
    }
   ],
   "source": [
    "display(model.dual)"
   ]
  },
  {
   "cell_type": "markdown",
   "id": "0b6d9ee8",
   "metadata": {},
   "source": [
    "After this analysis we can verify that every contraint that has been stated is taken into account.\n",
    "However there are two constraints that have all the influence of the problem which are MinAgreementsbyUniCons and JobsNeededCoveredCons, I tried to change the data so the rest have influence and it is a more realistic problem but the budget cost increased."
   ]
  },
  {
   "cell_type": "markdown",
   "id": "6cd2d69b",
   "metadata": {},
   "source": [
    "# The binary intership problem"
   ]
  },
  {
   "cell_type": "markdown",
   "id": "b848465c",
   "metadata": {},
   "source": [
    "### d) Modify the problem in a) to impose some logical and conditional constraints that require the use of binary or integer variables. The more integer variables or constraints, the better. Implement and solve this new model and interpret the results."
   ]
  },
  {
   "cell_type": "markdown",
   "id": "d7443c6d",
   "metadata": {},
   "source": [
    "## Summary\n",
    "\n",
    "In the previous problem we where calculating the number of students per company depending on the salaries, because we wanted the minimun budget, in this part we are going to choose them depending on the efficiency of the students, and the form of measuring this quality is taking into account the number of project each scholar is able to do in a year.\n",
    "\n",
    "\n",
    "<img src = \"img/download.jpg\" alt = \"Companies\" />\n",
    "\n",
    " \n",
    "In addition, due to the economic crisis, the budget is lower and as a consequence we can afford a lower number of students per company. Which means that in this case each company offers less places for the scholars.\n",
    "\n",
    "As the perfils of some univeristies are very different and work distint ways, the companies do not want them working  together because they are no compatible. The students of the universities that cannot work together are \"UC3M with ICADE\" , \"UCM with CEU\" and \"URJC and ESIC\". However there are some, that in the contrary, are very similar and have the same methods implied in their practices that make them a good team, these are: \"UCM and ICADE\" and \"ICADE with ESIC\".\n",
    "\n",
    "The data:\n",
    "\n",
    "<img src = \"img/tablepart2.jpg\" alt = \"Table2\" />\n",
    "\n",
    "\n",
    "In this case I have decided to generate the data in excel in order to define the variables and access to the data faster, and also to practice different ways of working with the data within the same assignment."
   ]
  },
  {
   "cell_type": "markdown",
   "id": "c946e96d",
   "metadata": {},
   "source": [
    "## New problem statement\n",
    "\n",
    "The Intership Binary Problem can be formulated mathematically as a linear programming problem using the following model.\n",
    "\n",
    " \n",
    "### Parameters\n",
    "\n",
    "NumStudents = number of students $ij$, $\\forall j\\in C$ ,  $\\forall i\\in U$\n",
    "\n",
    "ProjectsDone = Number of expected projects done $i$, $\\forall j\\in C$\n",
    "\n",
    "MaxStudents = Maximum number of students $j$, $\\forall i\\in U$\n",
    "\n",
    "MinStudent = 1 \n",
    "\n",
    "### Variables\n",
    "\n",
    "$$\n",
    "x_{ij}=\n",
    "\\left\\{\\begin{array}{ll} \n",
    "1, & \\text{if the university $i$ sends their students to companies $j$,}\\\\\n",
    "0, & \\text{if the university $i$ does not send their students to companies $j$}\n",
    "\\end{array} \\right.\\quad\n",
    "$$\n",
    "\n",
    "### Objective\n",
    "\n",
    "Maximize the expected projects done\n",
    "\n",
    "$\\max \\sum_{i\\in U}\\sum_{j \\in C} ProjectsDone_{i}*x_{ij}$\n",
    "\n",
    "### Constraints\n",
    "\n",
    "Maximum Number of Students:\n",
    "\n",
    "$\\sum_{i \\in U} x_{ij} \\leq MaxStudents_i $, $\\forall j \\in C$\n",
    "\n",
    "Minimum Number of Students:\n",
    "\n",
    "$\\sum_{i \\in U} x_{ij} \\geq MinStudents $, $\\forall j \\in C$\n",
    "\n",
    "#### Logical constraints\n",
    "\n",
    "$\\sum_{i \\in 1,5} x_{i} \\leq 1 $, $\\forall j \\in C$\n",
    "\n",
    "$\\sum_{i \\in 6,3} x_{i} \\leq 1 $, $\\forall j \\in C$\n",
    "\n",
    "$\\sum_{i \\in 2,4} x_{i} \\leq 1 $, $\\forall j \\in C$\n",
    "\n",
    "$\\sum_{i \\in 2,5} x_{i} \\geq 0 $, $\\forall j \\in C$\n",
    "\n",
    "$\\sum_{i \\in 6,5} x_{i} \\geq 0 $, $\\forall j \\in C$"
   ]
  },
  {
   "cell_type": "markdown",
   "id": "3a61247e",
   "metadata": {},
   "source": [
    "Firstly we must import the dataset and declare which columns we are going to use:"
   ]
  },
  {
   "cell_type": "code",
   "execution_count": 10,
   "id": "f9f29ecd",
   "metadata": {},
   "outputs": [
    {
     "name": "stdout",
     "output_type": "stream",
     "text": [
      "   Universities  ACCENTURE  KPMG  EY  PWC  DELOITTE  PROJECTS DONE\n",
      "0          UC3M         15     0   9    7        12          200.0\n",
      "1           UCM          3     3   6    0         2          125.0\n",
      "2          URJC         16     4   0    3         3           95.0\n",
      "3           CEU          6    12   3    0         4          175.0\n",
      "4         ICADE         13     0   0   11         5          210.0\n",
      "5          ESIC          0    10   8   15         7          140.0\n",
      "6  JOBS OFFERED         30    22  20   25        20            NaN\n"
     ]
    }
   ],
   "source": [
    "import pandas as pd\n",
    "\n",
    "data = pd.read_excel('Workbook1.xlsx', usecols = 'A:G') \n",
    "print(data)"
   ]
  },
  {
   "cell_type": "markdown",
   "id": "5ec2ab70",
   "metadata": {},
   "source": [
    "Once the data has been correctly imported we can define each of the parameters:"
   ]
  },
  {
   "cell_type": "code",
   "execution_count": 11,
   "id": "282c4c33",
   "metadata": {},
   "outputs": [],
   "source": [
    "Universities = data.iloc[0:6,0]\n",
    "Companies = data.columns[1:6]\n",
    "ProjectsDone = data.iloc[0:6,6]\n",
    "NumStudents = data.iloc[0:6,1:6]\n",
    "MinStudents = 1\n",
    "MaxStudents = data.iloc[6,1:6]"
   ]
  },
  {
   "cell_type": "markdown",
   "id": "84d53cfb",
   "metadata": {},
   "source": [
    "Start defining the binary variables and objective rule:"
   ]
  },
  {
   "cell_type": "code",
   "execution_count": 12,
   "id": "5e3ec4ba",
   "metadata": {},
   "outputs": [],
   "source": [
    "model1 = ConcreteModel('Intership Binary Problem')\n",
    "\n",
    "# Index for universities and companies\n",
    "model1.Universities = RangeSet(1, len(Universities)) # [1:6]\n",
    "model1.Companies = RangeSet(1, len(Companies)) # [1:5]\n",
    "\n",
    "# Binary variables\n",
    "model1.x = Var(model1.Universities, domain = Binary)\n",
    "\n",
    "# Objective function\n",
    "def objective_rule(model1):\n",
    "    return sum(ProjectsDone[i-1] * model1.x[i] for i in model1.Universities)\n",
    "\n",
    "model1.objective = Objective(rule = objective_rule, sense = maximize)\n",
    "\n",
    "# As we are using indexes in some variables they count the zero so that is why\n",
    "# we are substracting 1 in the ones that do not start counting by 0"
   ]
  },
  {
   "cell_type": "code",
   "execution_count": 13,
   "id": "f4eaa335",
   "metadata": {},
   "outputs": [
    {
     "name": "stdout",
     "output_type": "stream",
     "text": [
      "The objective expression is going to be:\n",
      "objective : Size=1, Index=None, Active=True\n",
      "    Key  : Active : Sense    : Expression\n",
      "    None :   True : maximize : 200.0*x[1] + 125.0*x[2] + 95.0*x[3] + 175.0*x[4] + 210.0*x[5] + 140.0*x[6]\n"
     ]
    }
   ],
   "source": [
    "print(\"The objective expression is going to be:\")\n",
    "model1.objective.pprint()"
   ]
  },
  {
   "cell_type": "code",
   "execution_count": 14,
   "id": "7d03a239",
   "metadata": {},
   "outputs": [],
   "source": [
    "# Constraints:\n",
    "\n",
    "def max_students(model1, j): \n",
    "    return sum(NumStudents.values[i-1, j-1] * model1.x[i] for i in model1.Universities) <= MaxStudents.values[j-1]\n",
    "\n",
    "model1.MaxStudents = Constraint(model1.Companies, rule = max_students)\n",
    "\n",
    "def min_students(model1, j): \n",
    "    return sum(NumStudents.values[i-1, j-1] * model1.x[i] for i in model1.Universities) >= MinStudents\n",
    "\n",
    "model1.MinStudents = Constraint(model1.Companies, rule = min_students)"
   ]
  },
  {
   "cell_type": "code",
   "execution_count": 15,
   "id": "25dacb0f",
   "metadata": {},
   "outputs": [],
   "source": [
    "# Solution\n",
    "# Define the solver\n",
    "opt = SolverFactory('glpk')"
   ]
  },
  {
   "cell_type": "code",
   "execution_count": 16,
   "id": "44812f7c",
   "metadata": {},
   "outputs": [
    {
     "name": "stdout",
     "output_type": "stream",
     "text": [
      "2 RangeSet Declarations\n",
      "    Companies : Dimen=1, Size=5, Bounds=(1, 5)\n",
      "        Key  : Finite : Members\n",
      "        None :   True :   [1:5]\n",
      "    Universities : Dimen=1, Size=6, Bounds=(1, 6)\n",
      "        Key  : Finite : Members\n",
      "        None :   True :   [1:6]\n",
      "\n",
      "1 Var Declarations\n",
      "    x : Size=6, Index=Universities\n",
      "        Key : Lower : Value : Upper : Fixed : Stale : Domain\n",
      "          1 :     0 :  None :     1 : False :  True : Binary\n",
      "          2 :     0 :  None :     1 : False :  True : Binary\n",
      "          3 :     0 :  None :     1 : False :  True : Binary\n",
      "          4 :     0 :  None :     1 : False :  True : Binary\n",
      "          5 :     0 :  None :     1 : False :  True : Binary\n",
      "          6 :     0 :  None :     1 : False :  True : Binary\n",
      "\n",
      "1 Objective Declarations\n",
      "    objective : Size=1, Index=None, Active=True\n",
      "        Key  : Active : Sense    : Expression\n",
      "        None :   True : maximize : 200.0*x[1] + 125.0*x[2] + 95.0*x[3] + 175.0*x[4] + 210.0*x[5] + 140.0*x[6]\n",
      "\n",
      "7 Constraint Declarations\n",
      "    MaxStudents : Size=5, Index=Companies, Active=True\n",
      "        Key : Lower : Body                                                 : Upper : Active\n",
      "          1 :  -Inf :        15*x[1] + 3*x[2] + 16*x[3] + 6*x[4] + 13*x[5] :  30.0 :   True\n",
      "          2 :  -Inf :                  3*x[2] + 4*x[3] + 12*x[4] + 10*x[6] :  22.0 :   True\n",
      "          3 :  -Inf :                    9*x[1] + 6*x[2] + 3*x[4] + 8*x[6] :  20.0 :   True\n",
      "          4 :  -Inf :                  7*x[1] + 3*x[3] + 11*x[5] + 15*x[6] :  25.0 :   True\n",
      "          5 :  -Inf : 12*x[1] + 2*x[2] + 3*x[3] + 4*x[4] + 5*x[5] + 7*x[6] :  20.0 :   True\n",
      "    MinStudents : Size=5, Index=Companies, Active=True\n",
      "        Key : Lower : Body                                                 : Upper : Active\n",
      "          1 :   1.0 :        15*x[1] + 3*x[2] + 16*x[3] + 6*x[4] + 13*x[5] :  +Inf :   True\n",
      "          2 :   1.0 :                  3*x[2] + 4*x[3] + 12*x[4] + 10*x[6] :  +Inf :   True\n",
      "          3 :   1.0 :                    9*x[1] + 6*x[2] + 3*x[4] + 8*x[6] :  +Inf :   True\n",
      "          4 :   1.0 :                  7*x[1] + 3*x[3] + 11*x[5] + 15*x[6] :  +Inf :   True\n",
      "          5 :   1.0 : 12*x[1] + 2*x[2] + 3*x[3] + 4*x[4] + 5*x[5] + 7*x[6] :  +Inf :   True\n",
      "    log1 : Size=1, Index=None, Active=True\n",
      "        Key  : Lower : Body        : Upper : Active\n",
      "        None :  -Inf : x[1] + x[5] :   1.0 :   True\n",
      "    log2 : Size=1, Index=None, Active=True\n",
      "        Key  : Lower : Body        : Upper : Active\n",
      "        None :  -Inf : x[6] + x[3] :   1.0 :   True\n",
      "    log3 : Size=1, Index=None, Active=True\n",
      "        Key  : Lower : Body        : Upper : Active\n",
      "        None :  -Inf : x[2] + x[4] :   1.0 :   True\n",
      "    log4 : Size=1, Index=None, Active=True\n",
      "        Key  : Lower : Body        : Upper : Active\n",
      "        None :  -Inf : x[2] + x[5] :   0.0 :   True\n",
      "    log5 : Size=1, Index=None, Active=True\n",
      "        Key  : Lower : Body        : Upper : Active\n",
      "        None :  -Inf : x[6] + x[5] :   0.0 :   True\n",
      "\n",
      "11 Declarations: Universities Companies x objective MaxStudents MinStudents log1 log2 log3 log4 log5\n"
     ]
    }
   ],
   "source": [
    "# Logical Constraints:\n",
    "\n",
    "model1.log1 = Constraint(expr = model1.x[1] + model1.x[5] <= 1) # UC3M with ICADE\n",
    "model1.log2 = Constraint(expr = model1.x[6] + model1.x[3] <= 1) # UCM with CEU\n",
    "model1.log3 = Constraint(expr = model1.x[2] + model1.x[4] <= 1) # URJC and ESIC\n",
    "model1.log4 = Constraint(expr = model1.x[2] + model1.x[5] <= 0) # UCM and ICADE\n",
    "model1.log5 = Constraint(expr = model1.x[6] + model1.x[5] <= 0) # ICADE with ESIC\n",
    "\n",
    "model1.pprint()"
   ]
  },
  {
   "cell_type": "code",
   "execution_count": 17,
   "id": "32aa1232",
   "metadata": {},
   "outputs": [
    {
     "name": "stdout",
     "output_type": "stream",
     "text": [
      "Model Intership Binary Problem\n",
      "\n",
      "  Variables:\n",
      "    x : Size=6, Index=Universities\n",
      "        Key : Lower : Value : Upper : Fixed : Stale : Domain\n",
      "          1 :     0 :   1.0 :     1 : False : False : Binary\n",
      "          2 :     0 :   0.0 :     1 : False : False : Binary\n",
      "          3 :     0 :   0.0 :     1 : False : False : Binary\n",
      "          4 :     0 :   1.0 :     1 : False : False : Binary\n",
      "          5 :     0 :   0.0 :     1 : False : False : Binary\n",
      "          6 :     0 :   0.0 :     1 : False : False : Binary\n",
      "\n",
      "  Objectives:\n",
      "    objective : Size=1, Index=None, Active=True\n",
      "        Key  : Active : Value\n",
      "        None :   True : 375.0\n",
      "\n",
      "  Constraints:\n",
      "    MaxStudents : Size=5\n",
      "        Key : Lower : Body : Upper\n",
      "          1 :  None : 21.0 :  30.0\n",
      "          2 :  None : 12.0 :  22.0\n",
      "          3 :  None : 12.0 :  20.0\n",
      "          4 :  None :  7.0 :  25.0\n",
      "          5 :  None : 16.0 :  20.0\n",
      "    MinStudents : Size=5\n",
      "        Key : Lower : Body : Upper\n",
      "          1 :   1.0 : 21.0 :  None\n",
      "          2 :   1.0 : 12.0 :  None\n",
      "          3 :   1.0 : 12.0 :  None\n",
      "          4 :   1.0 :  7.0 :  None\n",
      "          5 :   1.0 : 16.0 :  None\n",
      "    log1 : Size=1\n",
      "        Key  : Lower : Body : Upper\n",
      "        None :  None :  1.0 :   1.0\n",
      "    log2 : Size=1\n",
      "        Key  : Lower : Body : Upper\n",
      "        None :  None :  0.0 :   1.0\n",
      "    log3 : Size=1\n",
      "        Key  : Lower : Body : Upper\n",
      "        None :  None :  1.0 :   1.0\n",
      "    log4 : Size=1\n",
      "        Key  : Lower : Body : Upper\n",
      "        None :  None :  0.0 :   0.0\n",
      "    log5 : Size=1\n",
      "        Key  : Lower : Body : Upper\n",
      "        None :  None :  0.0 :   0.0\n"
     ]
    },
    {
     "data": {
      "text/plain": [
       "375.0"
      ]
     },
     "execution_count": 17,
     "metadata": {},
     "output_type": "execute_result"
    }
   ],
   "source": [
    "# Solve\n",
    "results = opt.solve(model1)  # solve the model with the selected solver\n",
    " \n",
    "model1.display()\n",
    "\n",
    "model1.objective()"
   ]
  },
  {
   "cell_type": "code",
   "execution_count": 18,
   "id": "aed5e0be",
   "metadata": {},
   "outputs": [
    {
     "name": "stdout",
     "output_type": "stream",
     "text": [
      "Total expected projects done = 375.0\n",
      "\n",
      "Selected Universities:\n",
      "-University UC3M -> 1.0\n",
      "-University CEU -> 1.0\n"
     ]
    }
   ],
   "source": [
    "print('Total expected projects done =', model1.objective())\n",
    "print('\\nSelected Universities:')\n",
    "for i in model1.Universities:\n",
    "    if model1.x[i]() > 0:\n",
    "        print('-University', Universities[i-1],'->',model1.x[i]())"
   ]
  },
  {
   "cell_type": "markdown",
   "id": "36c59527",
   "metadata": {},
   "source": [
    "## Conclusion\n",
    "\n",
    "With the new constraints the target is to maximize the estimated number of projects is finished. \n",
    "\n",
    "This is number of total expected projects done is 375 and it is obtanined hiring scholars who are fully compatible from UC3M and CEU universities. \n"
   ]
  },
  {
   "cell_type": "markdown",
   "id": "2091c044",
   "metadata": {},
   "source": [
    "We can check that this result fulfill all the restrictions:\n",
    "- First if we sum all the students of each company they are not more than the jobs offered.\n",
    "- Then we can observe that UC3M and CEU univeristy are not working with ICADE or UCM which are the incompatible universities respectively. Also they do not have the constraint of working with any college."
   ]
  },
  {
   "cell_type": "code",
   "execution_count": 19,
   "id": "8747fab4",
   "metadata": {},
   "outputs": [],
   "source": [
    "ACCENTURE = data.iloc[0,1] + data.iloc[3,1]\n",
    "KPMG = data.iloc[0,2] + data.iloc[3,2] \n",
    "EY = data.iloc[0,3] + data.iloc[3,3]\n",
    "PWC = data.iloc[0,4] + data.iloc[3,4]\n",
    "DELOITTE = data.iloc[0,5] + data.iloc[3,5]\n",
    "MaxStudents = data.iloc[6,1:6]\n",
    "Studentslist = [ACCENTURE, KPMG, EY, PWC, DELOITTE]\n",
    "acc = 0\n",
    "for i in range(len(Studentslist)):\n",
    "    if Studentslist[i] > MaxStudents[i]:\n",
    "        print(\"The constraint max_students is not fullfilled\")"
   ]
  },
  {
   "cell_type": "markdown",
   "id": "a4f951aa",
   "metadata": {},
   "source": [
    "<img src = \"img/uc3m.jpg\" alt = \"Companies\" style=\"width: 600px; height: 300px;\" />"
   ]
  },
  {
   "cell_type": "code",
   "execution_count": null,
   "id": "e076ba7f",
   "metadata": {},
   "outputs": [],
   "source": []
  }
 ],
 "metadata": {
  "kernelspec": {
   "display_name": "Python 3",
   "language": "python",
   "name": "python3"
  },
  "language_info": {
   "codemirror_mode": {
    "name": "ipython",
    "version": 3
   },
   "file_extension": ".py",
   "mimetype": "text/x-python",
   "name": "python",
   "nbconvert_exporter": "python",
   "pygments_lexer": "ipython3",
   "version": "3.8.8"
  }
 },
 "nbformat": 4,
 "nbformat_minor": 5
}
