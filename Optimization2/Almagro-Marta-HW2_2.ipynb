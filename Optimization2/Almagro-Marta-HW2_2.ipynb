{
 "cells": [
  {
   "cell_type": "markdown",
   "id": "fb964a34",
   "metadata": {},
   "source": [
    "# Second Homework: Network Optimization and Non-linear Models "
   ]
  },
  {
   "cell_type": "markdown",
   "id": "62cfb941",
   "metadata": {},
   "source": [
    "## Marta Almagro Fuello    \n",
    "#### NIA : 100451979\n"
   ]
  },
  {
   "cell_type": "markdown",
   "id": "88e7fc2c",
   "metadata": {},
   "source": [
    "## Fisrt Problem: Network optimization \n",
    "\n",
    "### a) Formulate the network optimization problem as a discrete model, identifying mathematically the variables and constraints associated with the network. Solve and interpret the solution."
   ]
  },
  {
   "cell_type": "markdown",
   "id": "9781fb6b",
   "metadata": {},
   "source": [
    "The palace and fortress Alhambra in Granada is opening a new section that they have been restoring for the last 5 years. Before open it they want to plan every excursion and guide that is going to take place in those zones in order for the tourists to see all of the galleries available. They have calculated the price of each gallery, however they have also calculated the price of each path from the gallery to the rest, and after lots of studies they saw that they cannot have the same price for each of them because to go to some galleries they have to go through enormous beautiful gardens while other are just hallways that have no need of maintenance. They want to show the tourist all the galleries and expositions while getting the higher profit possible, which means going through the most beautiful paths.\n",
    "\n",
    "<img src = \"alhambra2.jpg\" alt = \"foto\" />\n",
    "\n",
    "They want to show the tourist all the galleries while getting the higher profit possible, in other words, maximize the price of the ticket to see all the galleries.\n",
    "\n",
    "I have proposed this as a binary discrete model to optimize the whole problem and decide which path is in the final circuit so the company gains the maximum profit possible.\n",
    "To reprensent the problem a network was created using the nodes as the galleries that have to be shown and the arcs as the paths that connect each gallery. There are prices associated to each path which in our case are going to be the costs, that will be added to the final price, when taking that path.\n",
    "\n",
    "<img src = \"map.jpg\" alt = \"mapa\" />\n",
    "\n",
    "In this model we have to keep in mind that they told us that each section can only be seeing one time because once the circuit is done they are going to close the paths that are not going to be used so the people cannot go to see again other sections. There is just one entry and just one exit, and any gallery cannot be repeated."
   ]
  },
  {
   "cell_type": "markdown",
   "id": "ef97e25a",
   "metadata": {},
   "source": [
    "\n",
    "### Sets\n",
    "\n",
    " $G$ = nodes that represent the galleries of that section of the Alhambra\n",
    " \n",
    "### Parameters\n",
    "\n",
    "$Costs$ = cost for each path.\n",
    "\n",
    "$Entry$ = where the excursion begings, the entry. $Entry \\in [1]$\n",
    "\n",
    "$Exit$ = where the excursion ends, the exit. $Exit \\in [8]$\n",
    "\n",
    "\n",
    "### Variables\n",
    "\n",
    "$$x_{ij}=\n",
    "\\left\\{\\begin{array}{ll} \n",
    "1, & \\text{The gallery $i$ is visited just before gallery $j$,}\\\\\n",
    "0, & \\text{else}\\\\\n",
    "\\end{array} \\right.\\quad$$\n",
    "\n",
    "### Objective\n",
    "\n",
    "Maximize the price of the ticket to visit Alhambra: \n",
    "\n",
    "$\\max_{x_{ij}} \\sum_{i,j \\in G,i\\neq j} c_{ij} x_{ij}$\n",
    "\n",
    "\n",
    "### Constraints\n",
    "\n",
    "\n",
    "They have to start in the entry, is not possible to start from other node:\n",
    "\n",
    "$\\sum_{j\\in G} x_{1j} = 1$\n",
    "\n",
    "The circuit has to end at gallery 8 (exit) because there is where the exit is placed:\n",
    "\n",
    "$\\sum_{i\\in G} x_{i8} =1 $\n",
    "\n",
    "There cannot be loops on each node (gallery):\n",
    "\n",
    "$\\sum_{i\\in G} \\sum_{j\\in G,i=j} x_{ij} =0 $\n",
    "\n",
    "The cycles have to be avoided:\n",
    "\n",
    "$x_{ij} + x_{ji} \\leq1$, $\\forall i \\in G $, $\\forall j \\in G $\n",
    "\n",
    "There is only on path going out of each gallery and arriving to it:\n",
    "\n",
    "Just one out =\n",
    "$\\sum_{j \\in G} x_{ij} = 1$, $\\forall i \\in G $ except 8\n",
    "\n",
    "Junt one in =\n",
    "$\\sum_{i\\in G} x_{ij} = 1$, $\\forall j \\in G $ except 1"
   ]
  },
  {
   "cell_type": "markdown",
   "id": "162f111c",
   "metadata": {},
   "source": [
    "## Data\n",
    "\n",
    "First we must import the data:"
   ]
  },
  {
   "cell_type": "code",
   "execution_count": 8,
   "id": "689f728f",
   "metadata": {},
   "outputs": [
    {
     "name": "stdout",
     "output_type": "stream",
     "text": [
      "Writing alhambra.dat\n"
     ]
    }
   ],
   "source": [
    "%%writefile alhambra.dat\n",
    "\n",
    "param n := 8;\n",
    "    \n",
    "param cost :=\n",
    "    1 1 0\n",
    "    1 2 5\n",
    "    1 3 7 \n",
    "    1 4 1\n",
    "    1 5 6\n",
    "    1 6 2\n",
    "    1 7 7\n",
    "    1 8 5\n",
    "    2 1 4\n",
    "    2 2 0\n",
    "    2 3 3\n",
    "    2 4 4\n",
    "    2 5 9 \n",
    "    2 6 2\n",
    "    2 7 9\n",
    "    2 8 8\n",
    "    3 1 6\n",
    "    3 2 3\n",
    "    3 3 0\n",
    "    3 4 4\n",
    "    3 5 6\n",
    "    3 6 8\n",
    "    3 7 9\n",
    "    3 8 1    \n",
    "    4 1 5\n",
    "    4 2 2\n",
    "    4 3 7\n",
    "    4 4 0\n",
    "    4 5 9\n",
    "    4 6 3\n",
    "    4 7 5\n",
    "    4 8 8  \n",
    "    5 1 3\n",
    "    5 2 9\n",
    "    5 3 2\n",
    "    5 4 7\n",
    "    5 5 0\n",
    "    5 6 4\n",
    "    5 7 9\n",
    "    5 8 1\n",
    "    6 1 6\n",
    "    6 2 9\n",
    "    6 3 2 \n",
    "    6 4 4\n",
    "    6 5 3\n",
    "    6 6 0\n",
    "    6 7 6\n",
    "    6 8 9\n",
    "    7 1 3\n",
    "    7 2 7\n",
    "    7 3 5\n",
    "    7 4 5\n",
    "    7 5 9\n",
    "    7 6 3\n",
    "    7 7 0\n",
    "    7 8 5\n",
    "    8 1 2\n",
    "    8 2 5\n",
    "    8 3 7\n",
    "    8 4 3\n",
    "    8 5 2\n",
    "    8 6 6\n",
    "    8 7 6\n",
    "    8 8 0;"
   ]
  },
  {
   "cell_type": "markdown",
   "id": "c7c976dc",
   "metadata": {},
   "source": [
    "## Model\n",
    "\n",
    "Now we can create the model and start declaring the data:"
   ]
  },
  {
   "cell_type": "code",
   "execution_count": 9,
   "id": "8a035075",
   "metadata": {},
   "outputs": [
    {
     "name": "stdout",
     "output_type": "stream",
     "text": [
      "Writing alhambra.py\n"
     ]
    }
   ],
   "source": [
    "%%writefile alhambra.py\n",
    "\n",
    "# Import library\n",
    "from pyomo.environ import *\n",
    "\n",
    "# Create model\n",
    "model = AbstractModel()\n",
    "\n",
    "# Nodes and arc in the network\n",
    "model.n = Param(within = NonNegativeIntegers)\n",
    "model.i = Set(initialize = [1, 2, 3, 4, 5, 6, 7, 8]) \n",
    "model.j = Set(initialize = [1, 2, 3, 4, 5, 6, 7, 8]) \n",
    "\n",
    "# Initialize the source and the sink\n",
    "model.entry = Set(initialize = [1]) # Entry\n",
    "model.exit = Set(initialize = [8]) # Exit\n",
    "\n",
    "# Initialize the costs of each arc\n",
    "model.cost = Param(model.i, model.j) \n",
    "\n",
    "# Binary variable\n",
    "model.x = Var(model.i, model.j, initialize = 0, domain=Binary)\n",
    "\n",
    "# Maximize the flow \n",
    "def objective_rule(model):\n",
    "    return sum(model.x[i,j] * model.cost[i,j] for i in model.i for j in model.j)\n",
    "\n",
    "model.objective = Objective(rule = objective_rule, sense = maximize)\n",
    "#model.objective.pprint()\n",
    "\n",
    "# Constraint to avoid loops:\n",
    "def avoid_loops(model):\n",
    "    return sum(model.x[i,j] for i in model.i for j in model.j if i==j) == 0\n",
    "\n",
    "model.AvoidLoops = Constraint(rule = avoid_loops)\n",
    "\n",
    "# Constraint to avoid cycles:\n",
    "def avoid_cycles(model, i, j):\n",
    "    return model.x[i,j] + model.x[j,i] <= 1\n",
    "\n",
    "model.AvoidCycles = Constraint(model.i, model.j, rule = avoid_cycles)\n",
    "\n",
    "# Constraint to start in the entry\n",
    "def start_entry(model):\n",
    "    return sum(model.x[1,j] for j in model.j if j!=1) == 1\n",
    "\n",
    "model.StartEntry = Constraint(rule = start_entry)\n",
    "\n",
    "# Constraint to say that just one path go out of each gallery\n",
    "# and in the exit none\n",
    "def one_out(model, i):\n",
    "    if i == 8:\n",
    "        return sum(model.x[i,j] for j in model.j if j!=i) == 0\n",
    "    else:\n",
    "        return sum(model.x[i,j] for j in model.j if j!=i) <= 1\n",
    "    \n",
    "model.OneOut = Constraint(model.i, rule = one_out)\n",
    "    \n",
    "# Constraint to say that just one path go in of each gallery\n",
    "# and in the entry none\n",
    "def one_in(model, j):\n",
    "    if j == 1:\n",
    "        return sum(model.x[i,j] for i in model.i if j!=i) == 0\n",
    "    else:\n",
    "        return sum(model.x[i,j] for i in model.i if j!=i) <= 1\n",
    "\n",
    "model.OneIn = Constraint(model.j, rule = one_in)\n",
    "\n",
    "# Constraint to end in the exit\n",
    "def end_exit(model):\n",
    "    return sum(model.x[i,j] for i in model.i for j in model.exit) == 1\n",
    "\n",
    "model.EndExit = Constraint(rule = end_exit)\n"
   ]
  },
  {
   "cell_type": "code",
   "execution_count": 10,
   "id": "d8e1f715",
   "metadata": {},
   "outputs": [],
   "source": [
    "#!cat alhambra.dat\n",
    "#!cat alhambra.py"
   ]
  },
  {
   "cell_type": "markdown",
   "id": "5bc76312",
   "metadata": {},
   "source": [
    "Finally the optimization problem is resolve with function .solve from the package 'glpk'"
   ]
  },
  {
   "cell_type": "code",
   "execution_count": 11,
   "id": "231f6561",
   "metadata": {},
   "outputs": [
    {
     "name": "stdout",
     "output_type": "stream",
     "text": [
      "[    0.00] Setting up Pyomo environment\n",
      "[    0.00] Applying Pyomo preprocessing actions\n",
      "[    0.01] Creating model\n",
      "[    0.04] Applying solver\n",
      "[    0.11] Processing results\n",
      "    Number of solutions: 1\n",
      "    Solution Information\n",
      "      Gap: 0.0\n",
      "      Status: optimal\n",
      "      Function Value: 57.0\n",
      "    Solver results file: results.yml\n",
      "[    0.11] Applying Pyomo postprocessing actions\n",
      "[    0.11] Pyomo Finished\n"
     ]
    }
   ],
   "source": [
    "!pyomo solve --solver=glpk alhambra.py alhambra.dat"
   ]
  },
  {
   "cell_type": "code",
   "execution_count": 12,
   "id": "afcfa21c",
   "metadata": {},
   "outputs": [
    {
     "name": "stdout",
     "output_type": "stream",
     "text": [
      "# ==========================================================\n",
      "# = Solver Results                                         =\n",
      "# ==========================================================\n",
      "# ----------------------------------------------------------\n",
      "#   Problem Information\n",
      "# ----------------------------------------------------------\n",
      "Problem: \n",
      "- Name: unknown\n",
      "  Lower bound: 57.0\n",
      "  Upper bound: 57.0\n",
      "  Number of objectives: 1\n",
      "  Number of constraints: 84\n",
      "  Number of variables: 65\n",
      "  Number of nonzeros: 256\n",
      "  Sense: maximize\n",
      "# ----------------------------------------------------------\n",
      "#   Solver Information\n",
      "# ----------------------------------------------------------\n",
      "Solver: \n",
      "- Status: ok\n",
      "  Termination condition: optimal\n",
      "  Statistics: \n",
      "    Branch and bound: \n",
      "      Number of bounded subproblems: 1\n",
      "      Number of created subproblems: 1\n",
      "  Error rc: 0\n",
      "  Time: 0.023103952407836914\n",
      "# ----------------------------------------------------------\n",
      "#   Solution Information\n",
      "# ----------------------------------------------------------\n",
      "Solution: \n",
      "- number of solutions: 1\n",
      "  number of solutions displayed: 1\n",
      "- Gap: 0.0\n",
      "  Status: optimal\n",
      "  Message: None\n",
      "  Objective:\n",
      "    objective:\n",
      "      Value: 57\n",
      "  Variable:\n",
      "    x[1,3]:\n",
      "      Value: 1\n",
      "    x[2,7]:\n",
      "      Value: 1\n",
      "    x[3,6]:\n",
      "      Value: 1\n",
      "    x[4,8]:\n",
      "      Value: 1\n",
      "    x[5,4]:\n",
      "      Value: 1\n",
      "    x[6,2]:\n",
      "      Value: 1\n",
      "    x[7,5]:\n",
      "      Value: 1\n",
      "  Constraint: No values\n"
     ]
    }
   ],
   "source": [
    "# Display\n",
    "!cat results.yml"
   ]
  },
  {
   "cell_type": "markdown",
   "id": "589c9b23",
   "metadata": {},
   "source": [
    "## Conclusions and results"
   ]
  },
  {
   "cell_type": "markdown",
   "id": "73cd2c83",
   "metadata": {},
   "source": [
    "### Interpretation:"
   ]
  },
  {
   "cell_type": "markdown",
   "id": "e0ef3c93",
   "metadata": {},
   "source": [
    "This problem has a feasible solution. The solution found for the *objective function* is **57** euros going through the following path:\n",
    "\n",
    "$ Path$ | -------------------------------------------------------> $Cost$ \n",
    " -----------------------|----\n",
    "  Entry Gallery 3 | 7\n",
    "  Gallery 3 Gallery 6 | 8 \n",
    "  Gallery 6 Gallery 2 | 9\n",
    "  Gallery 2 Gallery 7 | 9 \n",
    "  Gallery 7 Gallery 5 | 9 \n",
    "  Gallery 5 Gallery 4 | 7 \n",
    "  Gallery 4 Gallery 8 | 8 \n",
    " Total price of the ticket | 57€\n",
    " \n",
    " Checking the data we can observe that the solution makes sense because the costs in the table below are between 7 and 9 which are actually the highest values of the costs.\n",
    "In this map I traced the paths choosen and we confirm that it starts in 1 and ends in 8 going through every gallery just once."
   ]
  },
  {
   "cell_type": "markdown",
   "id": "893a99d5",
   "metadata": {},
   "source": [
    "<img src = \"solution_map.jpg\" alt = \"Companies\" />"
   ]
  },
  {
   "cell_type": "markdown",
   "id": "6cd2d69b",
   "metadata": {},
   "source": [
    "# Second problem: Non-linear optimization"
   ]
  },
  {
   "cell_type": "markdown",
   "id": "b848465c",
   "metadata": {},
   "source": [
    "### b) Formulate (mathematically) and solve a non-linear optimization problem based on real (or realistic) world data. Interpret the solution."
   ]
  },
  {
   "cell_type": "markdown",
   "id": "2120cb88",
   "metadata": {},
   "source": [
    "In a physics laboratory at the university of Massachusets they are doing an experiment related with the energy of an object that has a rest mass ($m_{0}$) and a speed ($v$), among other factors. In this stage of the experiment they want to see how can they get the maximum energy of an object with a total mass that cannot be greater than half a ton.\n",
    "\n",
    "The formula that determines the energy is the following:\n",
    "\n",
    "$ E = \\frac{1}{2} m_{0} v^2 + m_{0} c^2 $\n",
    "\n",
    "Where c is the speed of light which a constant equal to $3 * 10^8$m/s\n",
    "\n",
    "\n",
    "This problem would be really easy just like that, however in the laboratory they have some limitations:\n",
    " - The lab is not very big and the object has a range of 250 meters so the speed cannot be more than:\n",
    "    \n",
    "  $$ 250 \\geq v * 30 $$   such that $$ d = v*t $$ \n",
    "     \n",
    "   taking into account that they want the experiment to last 30 seconds and it has a uniform speed (not aceleration)\n",
    " - Another limitation is a physic limitation which is the formula that states that the total mass is:  \n",
    "     \n",
    " $$ M = m_{0}^2 + M*0.1 $$\n",
    "   \n",
    " So if the total mass is at most 500 kg:\n",
    "  $$ 500 \\geq m_{0}^2 + 50 $$"
   ]
  },
  {
   "cell_type": "markdown",
   "id": "984c6583-991d-4ce5-bf9a-67251e25c2a3",
   "metadata": {},
   "source": [
    "\n",
    "### Parameters\n",
    "\n",
    "Distance = at most 250 meters.\n",
    "\n",
    "Time = 30 seconds\n",
    "\n",
    "Speed of light = $3 * 10^8$ m/s\n",
    "\n",
    "\n",
    "### Variables\n",
    "\n",
    " $m_{0}$ = rest mass of the object in kg.           \n",
    " $v$ = speed of the object in m/s.\n",
    "\n",
    "### Objective\n",
    "\n",
    "Maximize the total energy of the object: \n",
    "\n",
    "$ E(m_{0},v) = \\frac{1}{2} m_{0} v^2 + m_{0} c $\n",
    "\n",
    "$\\max_{m_{0},v} E(m_{0},v)$\n",
    "\n",
    "\n",
    "### Constraints\n",
    "\n",
    "\n",
    "- The mass is given by the inequation:\n",
    "\n",
    "  $$ 500 \\geq m_{0}^2 + 50 $$\n",
    "\n",
    "- The speed is limited by the time and distance:\n",
    "\n",
    "$$ 250 \\geq v * 30 $$\n",
    "\n",
    "- The speed and rest mass have to be more than 0\n",
    "\n",
    "\n",
    "$$ v > 0  $$  $$ m_{0} > 0  $$\n",
    "\n",
    "\n",
    "## Model"
   ]
  },
  {
   "cell_type": "markdown",
   "id": "5d51b4dc-18bb-4fdc-b3ce-3b7863893cde",
   "metadata": {},
   "source": [
    "### Solution with Pyomo"
   ]
  },
  {
   "cell_type": "code",
   "execution_count": 2,
   "id": "67fd2464-5670-4049-8fde-2907593b2e6b",
   "metadata": {},
   "outputs": [],
   "source": [
    "#conda install -c conda-forge pyomo"
   ]
  },
  {
   "cell_type": "code",
   "execution_count": 1,
   "id": "2f991417-e305-4da1-92d9-7dc331670cd4",
   "metadata": {},
   "outputs": [],
   "source": [
    "#conda install -c conda-forge ipopt"
   ]
  },
  {
   "cell_type": "code",
   "execution_count": 3,
   "id": "cf74f69a",
   "metadata": {},
   "outputs": [],
   "source": [
    "# Import library\n",
    "from pyomo.environ import *\n",
    "from pyomo.opt import SolverFactory\n",
    "\n",
    "import numpy as np\n",
    "\n",
    "# Create model\n",
    "model = ConcreteModel()\n",
    "\n",
    "# Define the variables m and v\n",
    "model.m = Var(within = NonNegativeIntegers, initialize = 1.0)\n",
    "model.v = Var(within = NonNegativeIntegers, initialize = 1.0)"
   ]
  },
  {
   "cell_type": "code",
   "execution_count": 4,
   "id": "d92f8904",
   "metadata": {},
   "outputs": [],
   "source": [
    "# Objective function\n",
    "model.obj = Objective(expr = (1/2) * model.m * (model.v**2) + (model.m *  3.0 * 10**16),\n",
    "                            sense = maximize)\n",
    "\n",
    "# Define the constraints\n",
    "model.cons2 = Constraint(expr = 250 - model.v * 30 >= 0 )\n",
    "model.cons3 = Constraint(expr = -model.m**2 + 450  >= 0)"
   ]
  },
  {
   "cell_type": "code",
   "execution_count": 5,
   "id": "ca4440b5-dbb3-4205-9146-b84f7d3f1585",
   "metadata": {},
   "outputs": [
    {
     "name": "stdout",
     "output_type": "stream",
     "text": [
      "obj : Size=1, Index=None, Active=True\n",
      "    Key  : Active : Value\n",
      "    None :   True : 6.36396106249874e+17\n",
      "m0 =  21.21320354166244\n",
      "v =  8.333333345707237\n"
     ]
    }
   ],
   "source": [
    "# Obtain the solution\n",
    "solver = SolverFactory(\"ipopt\") # define the solver\n",
    "results = solver.solve(model) # solve\n",
    "\n",
    "# Display solution\n",
    "display(model.obj)\n",
    "\n",
    "print('m0 = ', model.m())\n",
    "print('v = ', model.v())"
   ]
  },
  {
   "cell_type": "markdown",
   "id": "32e5fdcf",
   "metadata": {},
   "source": [
    "### Solution with Scipy "
   ]
  },
  {
   "cell_type": "code",
   "execution_count": 6,
   "id": "7ab5402a-034f-46a3-953c-be68ed6fbb62",
   "metadata": {},
   "outputs": [
    {
     "name": "stdout",
     "output_type": "stream",
     "text": [
      "Optimization terminated successfully    (Exit mode 0)\n",
      "            Current function value: -2.12132034355965e+17\n",
      "            Iterations: 5\n",
      "            Function evaluations: 7\n",
      "            Gradient evaluations: 5\n",
      "[21.21320344  8.33333333]\n"
     ]
    }
   ],
   "source": [
    "from scipy.optimize import minimize\n",
    "\n",
    "\n",
    "# Define the objective function\n",
    "def func(x): # x = (m, v)\n",
    "    return -((1/2) * x[0] * x[1]**2 + x[0] * 10**16)\n",
    "\n",
    "# Define the jacobian of the objective function\n",
    "def func_deriv(x):\n",
    "    return np.array([ -((1/2)* x[1]**2 + 10**16), -(x[0] * 10**16) ])\n",
    "\n",
    "# Define the constraints and its jacobian arrays\n",
    "cons = (\n",
    "    {'type': 'eq', 'fun' : lambda x: np.array([250 - 30 * x[1]]), 'jac' : lambda x: np.array([0.0, -30.0])},\n",
    "    {'type': 'eq','fun' : lambda x: np.array([-x[0]**2 + 450 ]),'jac' : lambda x: np.array([-2*x[0], 0.0])},\n",
    "    {'type': 'ineq','fun' : lambda x: np.array([x[0]-1]),'jac' : lambda x: np.array([1.0, 0.0])},\n",
    "    {'type': 'ineq','fun' : lambda x: np.array([x[1]-1]),'jac' : lambda x: np.array([0.0, 1.0])} )  \n",
    "\n",
    "#  # Solve\n",
    "result = minimize(func, x0 = [1.0, 1.0], jac = func_deriv, \n",
    "               constraints = cons, method = 'SLSQP',  options={'disp': True})\n",
    "\n",
    "# Display the results\n",
    "print(result.x)\n"
   ]
  },
  {
   "cell_type": "markdown",
   "id": "49fd7cef-2a59-4060-8879-b6aee0565559",
   "metadata": {},
   "source": [
    "#### Lagrange Multipliers."
   ]
  },
  {
   "cell_type": "code",
   "execution_count": 7,
   "id": "1d04a2a0",
   "metadata": {},
   "outputs": [
    {
     "name": "stdout",
     "output_type": "stream",
     "text": [
      "x =  [21.21320344  8.33333333] \n",
      "\n",
      "Lagrange multipliers =  [array([-7.07106781e+15]), array([-2.3570226e+14]), array([-2.53299781e-09]), array([-6.98181818e-09])]\n"
     ]
    },
    {
     "name": "stderr",
     "output_type": "stream",
     "text": [
      "/opt/conda/lib/python3.10/site-packages/scipy/optimize/_hessian_update_strategy.py:182: UserWarning: delta_grad == 0.0. Check if the approximated function is linear. If the function is linear better results can be obtained by defining the Hessian as zero instead of using quasi-Newton approximations.\n",
      "  warn('delta_grad == 0.0. Check if the approximated '\n"
     ]
    }
   ],
   "source": [
    "# Here we are going to mininmixe\n",
    "result1 = minimize(func, x0 = [1.0,1.0], jac = func_deriv, \n",
    "              constraints = cons, method = 'trust-constr')\n",
    "\n",
    "# Print the values for v and m\n",
    "print(\"x = \",result1.x,\"\\n\")\n",
    "\n",
    "# Print the lagrange multipliers\n",
    "print(\"Lagrange multipliers = \", result1.v)"
   ]
  },
  {
   "cell_type": "markdown",
   "id": "36c59527",
   "metadata": {},
   "source": [
    "## Conclusion\n",
    "\n"
   ]
  },
  {
   "cell_type": "markdown",
   "id": "c9f002dd",
   "metadata": {},
   "source": [
    "We conclude that the maximum point of this problem is with rest mass equal to 21.2132 kg and speed equal to  8.3333 m/s. The total energy generated by that object is going to be 6.36396106249874e+17.\n",
    "And that the Lagrange Multipliers are -7.07106781e+15, -2.3570226e+14, -2.53299781e-09 and-6.98181818e-09. "
   ]
  },
  {
   "cell_type": "markdown",
   "id": "c1b34621",
   "metadata": {},
   "source": [
    "There can be seen that doing the same problem with Scipy and Pyomo we obtain the same results which confirms that the problem formulation for each method is the right one."
   ]
  },
  {
   "cell_type": "markdown",
   "id": "50139cdf",
   "metadata": {},
   "source": [
    "To check that the constraints are taken into account:"
   ]
  },
  {
   "cell_type": "code",
   "execution_count": 8,
   "id": "2e5cccf9",
   "metadata": {},
   "outputs": [
    {
     "data": {
      "text/plain": [
       "True"
      ]
     },
     "execution_count": 8,
     "metadata": {},
     "output_type": "execute_result"
    }
   ],
   "source": [
    "500 >= 21.2132**2 + 50\n",
    "250 >= 8.3333 * 30"
   ]
  }
 ],
 "metadata": {
  "kernelspec": {
   "display_name": "Python 3",
   "language": "python",
   "name": "python3"
  },
  "language_info": {
   "codemirror_mode": {
    "name": "ipython",
    "version": 3
   },
   "file_extension": ".py",
   "mimetype": "text/x-python",
   "name": "python",
   "nbconvert_exporter": "python",
   "pygments_lexer": "ipython3",
   "version": "3.8.8"
  }
 },
 "nbformat": 4,
 "nbformat_minor": 5
}
